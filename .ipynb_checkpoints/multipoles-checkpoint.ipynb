{
 "cells": [
  {
   "cell_type": "markdown",
   "metadata": {},
   "source": [
    "# Two point correlation function: Multipole decomposition\n",
    "\n",
    "## Author: Cesar Arroyo Cardenas"
   ]
  },
  {
   "cell_type": "code",
   "execution_count": 1,
   "metadata": {},
   "outputs": [
    {
     "name": "stdout",
     "output_type": "stream",
     "text": [
      "Once deleted, variables cannot be recovered. Proceed (y/[n])? y\n"
     ]
    }
   ],
   "source": [
    "%reset\n",
    "# Import required libraries.\n",
    "import numpy as np # Package for n-dimensional scientific computing.\n",
    "from matplotlib import pyplot as plt # Quick plot module from the MatPlotLib package."
   ]
  },
  {
   "cell_type": "markdown",
   "metadata": {},
   "source": [
    "The workflow to be followed is the one described in the document: [Trabajo Grupo Cosmologia](https://docs.google.com/document/d/1mjUArJLjMPIflmWkiw5SJPDx5dBEqVSlLOUST4uWll8/edit).\n",
    "\n",
    "### Description of files\n",
    "\n",
    "In this notebook I will generate a multipole decomposition for a **CUTE output file**. The source file is a .xi file which corresponds to a calculation of the 2 point correlation function (2PCF) generated with given data and random files by the CUTE software.\n",
    "\n",
    "I will describe the output according to the CUTE version used and the output format given. The type of correlation calculated by CUTE is in the parameter file as\n",
    "```\n",
    "corr_type= 3D_rm\n",
    "```\n",
    "\n",
    "According to the verbal and written documentation obtained, this corresponds to a output of the form \n",
    "```\n",
    "For the 3-D correlation functions the output file has 7 columns with\n",
    "   mu   r   xi(mu,r)   errxi(mu,r)   DD   DR   RR\n",
    "```\n",
    "> **Note:** This must be taken with a grain of salt. There is still some confusion about the output format.\n",
    "\n",
    "We will now follow the suggested steps in the last meeting to construct the multipoles for one single file."
   ]
  },
  {
   "cell_type": "markdown",
   "metadata": {},
   "source": [
    "### Analysis of the .xi file\n",
    "\n",
    "The first thing to do is to inspect the .xi file in order to get a feeling about what we've obtained by running CUTE."
   ]
  },
  {
   "cell_type": "code",
   "execution_count": 2,
   "metadata": {
    "scrolled": true
   },
   "outputs": [
    {
     "name": "stdout",
     "output_type": "stream",
     "text": [
      "(20000L, 6L)\n",
      "(array([0.005, 0.015, 0.025, 0.035, 0.045, 0.055, 0.065, 0.075, 0.085,\n",
      "       0.095, 0.105, 0.115, 0.125, 0.135, 0.145, 0.155, 0.165, 0.175,\n",
      "       0.185, 0.195, 0.205, 0.215, 0.225, 0.235, 0.245, 0.255, 0.265,\n",
      "       0.275, 0.285, 0.295, 0.305, 0.315, 0.325, 0.335, 0.345, 0.355,\n",
      "       0.365, 0.375, 0.385, 0.395, 0.405, 0.415, 0.425, 0.435, 0.445,\n",
      "       0.455, 0.465, 0.475, 0.485, 0.495, 0.505, 0.515, 0.525, 0.535,\n",
      "       0.545, 0.555, 0.565, 0.575, 0.585, 0.595, 0.605, 0.615, 0.625,\n",
      "       0.635, 0.645, 0.655, 0.665, 0.675, 0.685, 0.695, 0.705, 0.715,\n",
      "       0.725, 0.735, 0.745, 0.755, 0.765, 0.775, 0.785, 0.795, 0.805,\n",
      "       0.815, 0.825, 0.835, 0.845, 0.855, 0.865, 0.875, 0.885, 0.895,\n",
      "       0.905, 0.915, 0.925, 0.935, 0.945, 0.955, 0.965, 0.975, 0.985,\n",
      "       0.995]), array([200, 200, 200, 200, 200, 200, 200, 200, 200, 200, 200, 200, 200,\n",
      "       200, 200, 200, 200, 200, 200, 200, 200, 200, 200, 200, 200, 200,\n",
      "       200, 200, 200, 200, 200, 200, 200, 200, 200, 200, 200, 200, 200,\n",
      "       200, 200, 200, 200, 200, 200, 200, 200, 200, 200, 200, 200, 200,\n",
      "       200, 200, 200, 200, 200, 200, 200, 200, 200, 200, 200, 200, 200,\n",
      "       200, 200, 200, 200, 200, 200, 200, 200, 200, 200, 200, 200, 200,\n",
      "       200, 200, 200, 200, 200, 200, 200, 200, 200, 200, 200, 200, 200,\n",
      "       200, 200, 200, 200, 200, 200, 200, 200, 200], dtype=int64))\n",
      "(array([  0.5,   1.5,   2.5,   3.5,   4.5,   5.5,   6.5,   7.5,   8.5,\n",
      "         9.5,  10.5,  11.5,  12.5,  13.5,  14.5,  15.5,  16.5,  17.5,\n",
      "        18.5,  19.5,  20.5,  21.5,  22.5,  23.5,  24.5,  25.5,  26.5,\n",
      "        27.5,  28.5,  29.5,  30.5,  31.5,  32.5,  33.5,  34.5,  35.5,\n",
      "        36.5,  37.5,  38.5,  39.5,  40.5,  41.5,  42.5,  43.5,  44.5,\n",
      "        45.5,  46.5,  47.5,  48.5,  49.5,  50.5,  51.5,  52.5,  53.5,\n",
      "        54.5,  55.5,  56.5,  57.5,  58.5,  59.5,  60.5,  61.5,  62.5,\n",
      "        63.5,  64.5,  65.5,  66.5,  67.5,  68.5,  69.5,  70.5,  71.5,\n",
      "        72.5,  73.5,  74.5,  75.5,  76.5,  77.5,  78.5,  79.5,  80.5,\n",
      "        81.5,  82.5,  83.5,  84.5,  85.5,  86.5,  87.5,  88.5,  89.5,\n",
      "        90.5,  91.5,  92.5,  93.5,  94.5,  95.5,  96.5,  97.5,  98.5,\n",
      "        99.5, 100.5, 101.5, 102.5, 103.5, 104.5, 105.5, 106.5, 107.5,\n",
      "       108.5, 109.5, 110.5, 111.5, 112.5, 113.5, 114.5, 115.5, 116.5,\n",
      "       117.5, 118.5, 119.5, 120.5, 121.5, 122.5, 123.5, 124.5, 125.5,\n",
      "       126.5, 127.5, 128.5, 129.5, 130.5, 131.5, 132.5, 133.5, 134.5,\n",
      "       135.5, 136.5, 137.5, 138.5, 139.5, 140.5, 141.5, 142.5, 143.5,\n",
      "       144.5, 145.5, 146.5, 147.5, 148.5, 149.5, 150.5, 151.5, 152.5,\n",
      "       153.5, 154.5, 155.5, 156.5, 157.5, 158.5, 159.5, 160.5, 161.5,\n",
      "       162.5, 163.5, 164.5, 165.5, 166.5, 167.5, 168.5, 169.5, 170.5,\n",
      "       171.5, 172.5, 173.5, 174.5, 175.5, 176.5, 177.5, 178.5, 179.5,\n",
      "       180.5, 181.5, 182.5, 183.5, 184.5, 185.5, 186.5, 187.5, 188.5,\n",
      "       189.5, 190.5, 191.5, 192.5, 193.5, 194.5, 195.5, 196.5, 197.5,\n",
      "       198.5, 199.5]), array([100, 100, 100, 100, 100, 100, 100, 100, 100, 100, 100, 100, 100,\n",
      "       100, 100, 100, 100, 100, 100, 100, 100, 100, 100, 100, 100, 100,\n",
      "       100, 100, 100, 100, 100, 100, 100, 100, 100, 100, 100, 100, 100,\n",
      "       100, 100, 100, 100, 100, 100, 100, 100, 100, 100, 100, 100, 100,\n",
      "       100, 100, 100, 100, 100, 100, 100, 100, 100, 100, 100, 100, 100,\n",
      "       100, 100, 100, 100, 100, 100, 100, 100, 100, 100, 100, 100, 100,\n",
      "       100, 100, 100, 100, 100, 100, 100, 100, 100, 100, 100, 100, 100,\n",
      "       100, 100, 100, 100, 100, 100, 100, 100, 100, 100, 100, 100, 100,\n",
      "       100, 100, 100, 100, 100, 100, 100, 100, 100, 100, 100, 100, 100,\n",
      "       100, 100, 100, 100, 100, 100, 100, 100, 100, 100, 100, 100, 100,\n",
      "       100, 100, 100, 100, 100, 100, 100, 100, 100, 100, 100, 100, 100,\n",
      "       100, 100, 100, 100, 100, 100, 100, 100, 100, 100, 100, 100, 100,\n",
      "       100, 100, 100, 100, 100, 100, 100, 100, 100, 100, 100, 100, 100,\n",
      "       100, 100, 100, 100, 100, 100, 100, 100, 100, 100, 100, 100, 100,\n",
      "       100, 100, 100, 100, 100, 100, 100, 100, 100, 100, 100, 100, 100,\n",
      "       100, 100, 100, 100, 100], dtype=int64))\n"
     ]
    }
   ],
   "source": [
    "data = np.loadtxt('qpm_mock_ELG_NGC_0001.xi', usecols = (0,1,2,4,5,6))\n",
    "mu = data[:, 0]\n",
    "r = data[:, 1]\n",
    "\n",
    "print(data.shape)\n",
    "print(np.unique(mu, return_counts=True))\n",
    "print(np.unique(r, return_counts=True))\n",
    "\n",
    "# The mu and r form a 200*100 grid.\n",
    "# Each value of mu appears 200 times and each value of r appears 100 times.\n",
    "\n"
   ]
  },
  {
   "cell_type": "markdown",
   "metadata": {},
   "source": [
    " Let's see if we can plot contour surfaces for $DD(\\mu,r)$, $DR(\\mu,r)$ and $RR(\\mu,r)$."
   ]
  },
  {
   "cell_type": "code",
   "execution_count": 18,
   "metadata": {},
   "outputs": [
    {
     "data": {
      "image/png": "[encoded data removed]",
      "text/plain": [
       "<Figure size 576x576 with 4 Axes>"
      ]
     },
     "metadata": {},
     "output_type": "display_data"
    }
   ],
   "source": [
    "shape = (200, 100) # Shape \n",
    "MU = mu.reshape(shape)\n",
    "R = r.reshape(shape)\n",
    "XI = np.reshape(data[:, 2], shape)\n",
    "DD = np.reshape(data[:, 3], shape)\n",
    "DR = np.reshape(data[:, 4], shape)\n",
    "RR = np.reshape(data[:, 5], shape)\n",
    "\n",
    "f, ((axXI, axDD), (axDR, axRR)) = plt.subplots(2, 2, sharex=True, sharey=True, figsize=(8,8))\n",
    "f.suptitle(\"Contour lines plots\")\n",
    "axXI.set_title(r\"$\\xi(\\mu,r)$\")\n",
    "axXI.contourf(MU, R, XI)\n",
    "axDD.set_title(r\"$DD(\\mu,r)$\")\n",
    "axDD.contourf(MU, R, DD)\n",
    "axDR.set_title(r\"$DR(\\mu,r)$\")\n",
    "axDR.contourf(MU, R, DR)\n",
    "axRR.set_title(r\"$RR(\\mu,r)$\")\n",
    "axRR.contourf(MU, R, RR)\n",
    "\n",
    "plt.show()"
   ]
  },
  {
   "cell_type": "markdown",
   "metadata": {},
   "source": [
    "Next step is to try to calculate the normalized $DD$, $DR$ and $RR$ and plot them."
   ]
  },
  {
   "cell_type": "code",
   "execution_count": 36,
   "metadata": {},
   "outputs": [
    {
     "data": {
      "image/png": "[encoded data removed]",
      "text/plain": [
       "<Figure size 432x288 with 1 Axes>"
      ]
     },
     "metadata": {},
     "output_type": "display_data"
    }
   ],
   "source": [
    "# Read the weights\n",
    "nd = np.sum(np.loadtxt(\"qpm_mock_anymask_ELG_recon_specweightsSGC_0001.rdz\", usecols = 3))\n",
    "nr = 1112665.55362\n",
    "\n",
    "normdd = nd*(nd - 1.)\n",
    "normdr = nd*nr\n",
    "normrr = nr*(nr - 1.)\n",
    "\n",
    "DD = np.zeros(200)\n",
    "DR = np.zeros(200)\n",
    "RR = np.zeros(200)\n",
    "XIdat = np.zeros(200)\n",
    "\n",
    "# Average of DDs and DRs\n",
    "for i in np.arange(200):\n",
    "    DD[i] = np.mean(data[100*i:100*(i+1),3])\n",
    "    DR[i] = np.mean(data[100*i:100*(i+1),4])\n",
    "    RR[i] = np.mean(data[100*i:100*(i+1),5])\n",
    "    XIdat[i] = np.mean(data[100*i:100*(i+1),2])\n",
    "    \n",
    "# Normalize the DD, DR and RR\n",
    "DD = DD/normdd\n",
    "DR = DR/normdr\n",
    "RR = RR/normrr\n",
    "XIcal = (DD - DR + RR)/RR\n",
    "    \n",
    "r_arr = np.unique(r)\n",
    "#plt.plot(r_arr, DD, 'r', r_arr, DR, 'b', r_arr, RR, 'g-', r_arr, RR*DD, 'o')\n",
    "plt.plot(r_arr, XIdat/XIcal)\n",
    "plt.show()"
   ]
  },
  {
   "cell_type": "code",
   "execution_count": 30,
   "metadata": {},
   "outputs": [],
   "source": [
    "DD = data[:, 3]\n",
    "DR = data[:, 4]\n",
    "RR = data[:, 5]\n",
    "\n",
    "# Normalize the DD, DR and RR\n",
    "DD = DD/normdd\n",
    "DR = DR/normdr\n",
    "RR = RR/normrr\n",
    "\n",
    "XI = (DD - DR + RR)/RR\n",
    "mu_unique = np.unique(mu)\n",
    "dmu = np.mean(np.diff(mu_unique))\n",
    "\n",
    "monopole = []\n",
    "quadrupole = []\n",
    "\n",
    "mon = 0.\n",
    "\n",
    "for ii in np.arange(len(r)):\n",
    "    for jj in np.arange(100*i,100*(i+1)):\n",
    "        mon += dmu*\n"
   ]
  },
  {
   "cell_type": "code",
   "execution_count": 30,
   "metadata": {},
   "outputs": [
    {
     "name": "stdout",
     "output_type": "stream",
     "text": [
      "(200L, 100L)\n",
      "[[5.969113e-01 0.000000e+00 3.844141e-01 ... 1.361391e+00 1.462756e+00\n",
      "  2.152207e+00]\n",
      " [1.537218e+00 3.034805e+00 1.165450e+00 ... 2.681277e+00 4.246948e+00\n",
      "  8.672336e+00]\n",
      " [3.707849e+00 5.540362e+00 4.154277e+00 ... 7.538443e+00 9.666888e+00\n",
      "  1.242335e+01]\n",
      " ...\n",
      " [6.067322e+03 6.033845e+03 6.118081e+03 ... 8.920328e+03 9.283779e+03\n",
      "  9.676513e+03]\n",
      " [6.086632e+03 6.050224e+03 6.032172e+03 ... 8.953834e+03 9.334120e+03\n",
      "  9.874366e+03]\n",
      " [6.130642e+03 6.067849e+03 6.137701e+03 ... 8.966835e+03 9.370725e+03\n",
      "  9.838296e+03]]\n",
      "\n",
      "(25L, 100L)\n",
      "[[5.969113e-01 0.000000e+00 3.844141e-01 ... 1.361391e+00 1.462756e+00\n",
      "  2.152207e+00]\n",
      " [2.862494e+01 2.424789e+01 2.721905e+01 ... 2.415676e+01 2.912895e+01\n",
      "  2.794514e+01]\n",
      " [7.942699e+01 8.296675e+01 7.947528e+01 ... 8.553414e+01 7.237081e+01\n",
      "  7.933421e+01]\n",
      " ...\n",
      " [5.123786e+03 5.195225e+03 5.183860e+03 ... 7.621709e+03 7.808648e+03\n",
      "  8.038541e+03]\n",
      " [5.503623e+03 5.519404e+03 5.541864e+03 ... 8.073428e+03 8.353111e+03\n",
      "  8.794199e+03]\n",
      " [5.803805e+03 5.813636e+03 5.919452e+03 ... 8.711362e+03 8.806041e+03\n",
      "  9.496833e+03]]\n",
      "\n",
      "(25L, 100L)\n"
     ]
    }
   ],
   "source": [
    "rebin = 8\n",
    "DD = data[4]\n",
    "DR = data[5]\n",
    "RR = data[6]\n",
    "#print(DD.shape, DD.T.shape)\n",
    "#print(DD)\n",
    "#print\n",
    "\n",
    "# NumPy understands the shape of a vector the same independently if it's transposed or\n",
    "# if it's normal.\n",
    "\n",
    "# The reshaping is done in a row-wise fashion.\n",
    "\n",
    "# r changes every 100 rows in original file\n",
    "# Single row constitutes DD values for constant r and varying mu.\n",
    "\n",
    "DD = DD.reshape((200, 100))\n",
    "DR = DR.reshape((200, 100))\n",
    "RR = RR.reshape((200, 100))\n",
    "\n",
    "DD1 = np.zeros((25, 100))\n",
    "DR1 = np.zeros((25, 100))\n",
    "RR1 = np.zeros((25, 100))\n",
    "\n",
    "#DD1 = DD[:200:8, :]\n",
    "#print(DD1.shape)\n",
    "#print(DD1)\n",
    "for i in range(rebin):\n",
    "    DD1 = DD1 + DD[i:200:8, :]\n",
    "    DR1 = DR1 + DR[i:200:8, :]\n",
    "    RR1 = RR1 + RR[i:200:8, :]\n",
    "    \n",
    "print\n",
    "print(DD1.shape)\n",
    "\n",
    "DD = DD1/float(rebin)\n",
    "DR = DR1/float(rebin)\n",
    "RR = RR1/float(rebin)\n",
    "\n",
    "#MU, R = np.meshgrid(data[0,:], data[1,:])\n",
    "#XI = np.reshape(data[2,:], MU.shape)\n",
    "\n",
    "#print(type(MU), type(R), type(XI))\n",
    "#print(MU.shape, R.shape, XI.shape)\n",
    "#plt.pcolormesh(MU, R, XI)\n",
    "#plt.show()"
   ]
  },
  {
   "cell_type": "code",
   "execution_count": 26,
   "metadata": {},
   "outputs": [
    {
     "name": "stdout",
     "output_type": "stream",
     "text": [
      "[0 1 2 3 4 5]\n",
      "\n",
      "[[0 1 2]\n",
      " [3 4 5]]\n",
      "\n",
      "[[0 1]\n",
      " [2 3]\n",
      " [4 5]]\n"
     ]
    }
   ],
   "source": [
    "a = np.arange(6)\n",
    "print(a)\n",
    "print\n",
    "print(a.reshape((2, 3)))\n",
    "print\n",
    "print(a.reshape((3,2)))"
   ]
  },
  {
   "cell_type": "code",
   "execution_count": null,
   "metadata": {},
   "outputs": [],
   "source": []
  }
 ],
 "metadata": {
  "kernelspec": {
   "display_name": "Python 2",
   "language": "python",
   "name": "python2"
  },
  "language_info": {
   "codemirror_mode": {
    "name": "ipython",
    "version": 2
   },
   "file_extension": ".py",
   "mimetype": "text/x-python",
   "name": "python",
   "nbconvert_exporter": "python",
   "pygments_lexer": "ipython2",
   "version": "2.7.15"
  }
 },
 "nbformat": 4,
 "nbformat_minor": 2
}
