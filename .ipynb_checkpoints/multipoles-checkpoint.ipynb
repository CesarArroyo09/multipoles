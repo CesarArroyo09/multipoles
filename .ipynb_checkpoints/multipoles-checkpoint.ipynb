{
 "cells": [
  {
   "cell_type": "markdown",
   "metadata": {},
   "source": [
    "# Two point correlation function: Multipole decomposition\n",
    "\n",
    "## Author: Cesar Arroyo Cardenas"
   ]
  },
  {
   "cell_type": "code",
   "execution_count": 2,
   "metadata": {},
   "outputs": [
    {
     "name": "stdout",
     "output_type": "stream",
     "text": [
      "Once deleted, variables cannot be recovered. Proceed (y/[n])? y\n"
     ]
    }
   ],
   "source": [
    "%reset\n",
    "# Import required libraries.\n",
    "import numpy as np # Package for n-dimensional scientific computing.\n",
    "from matplotlib import pyplot as plt # Quick plot module from the MatPlotLib package."
   ]
  },
  {
   "cell_type": "markdown",
   "metadata": {},
   "source": [
    "The workflow to be followed is the one described in the document: [Trabajo Grupo Cosmologia](https://docs.google.com/document/d/1mjUArJLjMPIflmWkiw5SJPDx5dBEqVSlLOUST4uWll8/edit).\n",
    "\n",
    "### Description of files\n",
    "\n",
    "In this notebook I will generate a multipole decomposition for a **CUTE output file**. The source file is a .xi file which corresponds to a calculation of the 2 point correlation function (2PCF) generated with given data and random files by the CUTE software.\n",
    "\n",
    "I will describe the output according to the CUTE version used and the output format given. The type of correlation calculated by CUTE is in the parameter file as\n",
    "```\n",
    "corr_type= 3D_rm\n",
    "```\n",
    "\n",
    "According to the verbal and written documentation obtained, this corresponds to a output of the form \n",
    "```\n",
    "For the 3-D correlation functions the output file has 7 columns with\n",
    "   mu   r   xi(mu,r)   errxi(mu,r)   DD   DR   RR\n",
    "```\n",
    "> **Note:** This must be taken with a grain of salt. There is still some confusion about the output format.\n",
    "\n",
    "We will now follow the suggested steps in the last meeting to construct the multipoles for one single file."
   ]
  },
  {
   "cell_type": "markdown",
   "metadata": {},
   "source": [
    "### Analysis of the .xi file\n",
    "\n",
    "The first thing to do is to inspect the .xi file in order to get a feeling about what we've obtained by running CUTE."
   ]
  },
  {
   "cell_type": "code",
   "execution_count": 14,
   "metadata": {},
   "outputs": [
    {
     "name": "stdout",
     "output_type": "stream",
     "text": [
      "<type 'numpy.ndarray'>\n",
      "((7L, 20000L), 140000)\n",
      "[[ 5.000000e-03  1.500000e-02  2.500000e-02 ...  9.750000e-01\n",
      "   9.850000e-01  9.950000e-01]\n",
      " [ 5.000000e-01  5.000000e-01  5.000000e-01 ...  1.995000e+02\n",
      "   1.995000e+02  1.995000e+02]\n",
      " [ 3.875524e+00  0.000000e+00  2.838536e+00 ... -1.312272e-02\n",
      "  -1.477568e-03 -5.934487e-03]\n",
      " ...\n",
      " [ 5.969113e-01  0.000000e+00  3.844141e-01 ...  8.966835e+03\n",
      "   9.370725e+03  9.838296e+03]\n",
      " [ 5.779970e+00  3.184358e+00  3.056562e+00 ...  3.668385e+05\n",
      "   3.786998e+05  3.988235e+05]\n",
      " [ 4.393177e+01  4.441543e+01  5.155520e+01 ...  3.702550e+06\n",
      "   3.820404e+06  4.017880e+06]]\n",
      "\n",
      "[5.969113e-01 0.000000e+00 3.844141e-01 ... 8.966835e+03 9.370725e+03\n",
      " 9.838296e+03]\n"
     ]
    }
   ],
   "source": [
    "data = np.loadtxt('qpm_mock_ELG_NGC_0001.xi', unpack = True)\n",
    "print(type(data))\n",
    "print(data.shape, data.size)\n",
    "\n",
    "print(data)\n",
    "print\n",
    "print(data[4,])\n"
   ]
  },
  {
   "cell_type": "code",
   "execution_count": 30,
   "metadata": {},
   "outputs": [
    {
     "name": "stdout",
     "output_type": "stream",
     "text": [
      "(200L, 100L)\n",
      "[[5.969113e-01 0.000000e+00 3.844141e-01 ... 1.361391e+00 1.462756e+00\n",
      "  2.152207e+00]\n",
      " [1.537218e+00 3.034805e+00 1.165450e+00 ... 2.681277e+00 4.246948e+00\n",
      "  8.672336e+00]\n",
      " [3.707849e+00 5.540362e+00 4.154277e+00 ... 7.538443e+00 9.666888e+00\n",
      "  1.242335e+01]\n",
      " ...\n",
      " [6.067322e+03 6.033845e+03 6.118081e+03 ... 8.920328e+03 9.283779e+03\n",
      "  9.676513e+03]\n",
      " [6.086632e+03 6.050224e+03 6.032172e+03 ... 8.953834e+03 9.334120e+03\n",
      "  9.874366e+03]\n",
      " [6.130642e+03 6.067849e+03 6.137701e+03 ... 8.966835e+03 9.370725e+03\n",
      "  9.838296e+03]]\n",
      "\n",
      "(25L, 100L)\n",
      "[[5.969113e-01 0.000000e+00 3.844141e-01 ... 1.361391e+00 1.462756e+00\n",
      "  2.152207e+00]\n",
      " [2.862494e+01 2.424789e+01 2.721905e+01 ... 2.415676e+01 2.912895e+01\n",
      "  2.794514e+01]\n",
      " [7.942699e+01 8.296675e+01 7.947528e+01 ... 8.553414e+01 7.237081e+01\n",
      "  7.933421e+01]\n",
      " ...\n",
      " [5.123786e+03 5.195225e+03 5.183860e+03 ... 7.621709e+03 7.808648e+03\n",
      "  8.038541e+03]\n",
      " [5.503623e+03 5.519404e+03 5.541864e+03 ... 8.073428e+03 8.353111e+03\n",
      "  8.794199e+03]\n",
      " [5.803805e+03 5.813636e+03 5.919452e+03 ... 8.711362e+03 8.806041e+03\n",
      "  9.496833e+03]]\n",
      "\n",
      "(25L, 100L)\n"
     ]
    }
   ],
   "source": [
    "rebin = 8\n",
    "DD = data[4]\n",
    "DR = data[5]\n",
    "RR = data[6]\n",
    "#print(DD.shape, DD.T.shape)\n",
    "#print(DD)\n",
    "#print\n",
    "\n",
    "# NumPy understands the shape of a vector the same independently if it's transposed or\n",
    "# if it's normal.\n",
    "\n",
    "# The reshaping is done in a row-wise fashion.\n",
    "\n",
    "# r changes every 100 rows in original file\n",
    "# Single row constitutes DD values for constant r and varying mu.\n",
    "\n",
    "DD = DD.reshape((200, 100))\n",
    "DR = DR.reshape((200, 100))\n",
    "RR = RR.reshape((200, 100))\n",
    "\n",
    "DD1 = np.zeros((25, 100))\n",
    "DR1 = np.zeros((25, 100))\n",
    "RR1 = np.zeros((25, 100))\n",
    "\n",
    "#DD1 = DD[:200:8, :]\n",
    "#print(DD1.shape)\n",
    "#print(DD1)\n",
    "for i in range(rebin):\n",
    "    DD1 = DD1 + DD[i:200:8, :]\n",
    "    DR1 = DR1 + DR[i:200:8, :]\n",
    "    RR1 = RR1 + RR[i:200:8, :]\n",
    "    \n",
    "print\n",
    "print(DD1.shape)\n",
    "\n",
    "DD = DD1/float(rebin)\n",
    "DR = DR1/float(rebin)\n",
    "RR = RR1/float(rebin)\n",
    "\n",
    "#MU, R = np.meshgrid(data[0,:], data[1,:])\n",
    "#XI = np.reshape(data[2,:], MU.shape)\n",
    "\n",
    "#print(type(MU), type(R), type(XI))\n",
    "#print(MU.shape, R.shape, XI.shape)\n",
    "#plt.pcolormesh(MU, R, XI)\n",
    "#plt.show()"
   ]
  },
  {
   "cell_type": "code",
   "execution_count": 26,
   "metadata": {},
   "outputs": [
    {
     "name": "stdout",
     "output_type": "stream",
     "text": [
      "[0 1 2 3 4 5]\n",
      "\n",
      "[[0 1 2]\n",
      " [3 4 5]]\n",
      "\n",
      "[[0 1]\n",
      " [2 3]\n",
      " [4 5]]\n"
     ]
    }
   ],
   "source": [
    "a = np.arange(6)\n",
    "print(a)\n",
    "print\n",
    "print(a.reshape((2, 3)))\n",
    "print\n",
    "print(a.reshape((3,2)))"
   ]
  },
  {
   "cell_type": "code",
   "execution_count": null,
   "metadata": {},
   "outputs": [],
   "source": []
  }
 ],
 "metadata": {
  "kernelspec": {
   "display_name": "Python 2",
   "language": "python",
   "name": "python2"
  },
  "language_info": {
   "codemirror_mode": {
    "name": "ipython",
    "version": 2
   },
   "file_extension": ".py",
   "mimetype": "text/x-python",
   "name": "python",
   "nbconvert_exporter": "python",
   "pygments_lexer": "ipython2",
   "version": "2.7.15"
  }
 },
 "nbformat": 4,
 "nbformat_minor": 2
}
